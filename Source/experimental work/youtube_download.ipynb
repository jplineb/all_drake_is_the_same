{
 "cells": [
  {
   "cell_type": "markdown",
   "source": [
    "# Imports"
   ],
   "metadata": {}
  },
  {
   "cell_type": "code",
   "execution_count": 31,
   "source": [
    "import os\n",
    "import pytube\n",
    "from pytube import YouTube"
   ],
   "outputs": [],
   "metadata": {}
  },
  {
   "cell_type": "markdown",
   "source": [
    "# Test a random video to download"
   ],
   "metadata": {}
  },
  {
   "cell_type": "code",
   "execution_count": 25,
   "source": [
    "link = \"https://www.youtube.com/watch?v=dQw4w9WgXcQ\"\n",
    "YouTube(link).streams.first().download()"
   ],
   "outputs": [
    {
     "output_type": "execute_result",
     "data": {
      "text/plain": [
       "'/Users/jplineb/Documents/GitHub/all_drake_is_the_same/Source/experimental work/Rick Astley - Never Gonna Give You Up (Official Music Video).3gpp'"
      ]
     },
     "metadata": {},
     "execution_count": 25
    }
   ],
   "metadata": {}
  },
  {
   "cell_type": "markdown",
   "source": [
    "## Try to filter based on mp4"
   ],
   "metadata": {}
  },
  {
   "cell_type": "markdown",
   "source": [
    "Code below doesn't provide audio when streamed"
   ],
   "metadata": {}
  },
  {
   "cell_type": "code",
   "execution_count": 26,
   "source": [
    "YouTube(link).streams.filter(file_extension='mp4',\n",
    "                            res=\"1080p\").first().download()"
   ],
   "outputs": [
    {
     "output_type": "execute_result",
     "data": {
      "text/plain": [
       "'/Users/jplineb/Documents/GitHub/all_drake_is_the_same/Source/experimental work/Rick Astley - Never Gonna Give You Up (Official Music Video).mp4'"
      ]
     },
     "metadata": {},
     "execution_count": 26
    }
   ],
   "metadata": {}
  },
  {
   "cell_type": "markdown",
   "source": [
    "## Try just mp3 --> only get mp4s with library"
   ],
   "metadata": {}
  },
  {
   "cell_type": "markdown",
   "source": [
    "Saldy just provides mp4s, so I need to convert to mp3"
   ],
   "metadata": {}
  },
  {
   "cell_type": "code",
   "execution_count": 27,
   "source": [
    "YouTube(link).streams.get_audio_only().download()"
   ],
   "outputs": [],
   "metadata": {}
  },
  {
   "cell_type": "markdown",
   "source": [
    "# Convert mp4 to mp3"
   ],
   "metadata": {}
  },
  {
   "cell_type": "code",
   "execution_count": 4,
   "source": [
    "path_to_mp4 = 'Rick Astley - Never Gonna Give You Up.mp4'\n",
    "path_to_mp3 = 'test_audio.mp3'\n",
    "\n",
    "# Join paths for the terminal commands to work\n",
    "# path_to_mp4 = os.path.join(os.getcwd(), path_to_mp4)\n",
    "# path_to_mp3 = os.path.join(os.getcwd(), path_to_mp3)"
   ],
   "outputs": [
    {
     "output_type": "stream",
     "name": "stdout",
     "text": [
      "'Rick Astley - Never Gonna Give You Up.mp4'\n"
     ]
    }
   ],
   "metadata": {}
  },
  {
   "cell_type": "markdown",
   "source": [
    "## Note: Always use repr to convert string to escape characters for command line arguments"
   ],
   "metadata": {}
  },
  {
   "cell_type": "code",
   "execution_count": 5,
   "source": [
    "\n",
    "cmd = \"ffmpeg -i {} -vn {}\".format(repr(path_to_mp4),\n",
    "                                    repr(path_to_mp3))\n",
    "os.system(cmd)"
   ],
   "outputs": [
    {
     "output_type": "stream",
     "name": "stderr",
     "text": [
      "ffmpeg version 4.4 Copyright (c) 2000-2021 the FFmpeg developers\n",
      "  built with Apple clang version 12.0.5 (clang-1205.0.22.9)\n",
      "  configuration: --prefix=/opt/homebrew/Cellar/ffmpeg/4.4_2 --enable-shared --enable-pthreads --enable-version3 --cc=clang --host-cflags= --host-ldflags= --enable-ffplay --enable-gnutls --enable-gpl --enable-libaom --enable-libbluray --enable-libdav1d --enable-libmp3lame --enable-libopus --enable-librav1e --enable-librubberband --enable-libsnappy --enable-libsrt --enable-libtesseract --enable-libtheora --enable-libvidstab --enable-libvorbis --enable-libvpx --enable-libwebp --enable-libx264 --enable-libx265 --enable-libxml2 --enable-libxvid --enable-lzma --enable-libfontconfig --enable-libfreetype --enable-frei0r --enable-libass --enable-libopencore-amrnb --enable-libopencore-amrwb --enable-libopenjpeg --enable-libspeex --enable-libsoxr --enable-libzmq --enable-libzimg --disable-libjack --disable-indev=jack --enable-avresample --enable-videotoolbox\n",
      "  libavutil      56. 70.100 / 56. 70.100\n",
      "  libavcodec     58.134.100 / 58.134.100\n",
      "  libavformat    58. 76.100 / 58. 76.100\n",
      "  libavdevice    58. 13.100 / 58. 13.100\n",
      "  libavfilter     7.110.100 /  7.110.100\n",
      "  libavresample   4.  0.  0 /  4.  0.  0\n",
      "  libswscale      5.  9.100 /  5.  9.100\n",
      "  libswresample   3.  9.100 /  3.  9.100\n",
      "  libpostproc    55.  9.100 / 55.  9.100\n",
      "Input #0, mov,mp4,m4a,3gp,3g2,mj2, from 'Rick Astley - Never Gonna Give You Up.mp4':\n",
      "  Metadata:\n",
      "    major_brand     : dash\n",
      "    minor_version   : 0\n",
      "    compatible_brands: iso6mp41\n",
      "    creation_time   : 2021-08-05T00:06:10.000000Z\n",
      "  Duration: 00:03:32.09, start: 0.000000, bitrate: 129 kb/s\n",
      "  Stream #0:0(eng): Audio: aac (LC) (mp4a / 0x6134706D), 44100 Hz, stereo, fltp, 6 kb/s (default)\n",
      "    Metadata:\n",
      "      creation_time   : 2021-08-05T00:06:10.000000Z\n",
      "      handler_name    : ISO Media file produced by Google Inc.\n",
      "      vendor_id       : [0][0][0][0]\n",
      "Stream mapping:\n",
      "  Stream #0:0 -> #0:0 (aac (native) -> mp3 (libmp3lame))\n",
      "Press [q] to stop, [?] for help\n",
      "Output #0, mp3, to 'test_audio.mp3':\n",
      "  Metadata:\n",
      "    major_brand     : dash\n",
      "    minor_version   : 0\n",
      "    compatible_brands: iso6mp41\n",
      "    TSSE            : Lavf58.76.100\n",
      "  Stream #0:0(eng): Audio: mp3, 44100 Hz, stereo, fltp (default)\n",
      "    Metadata:\n",
      "      creation_time   : 2021-08-05T00:06:10.000000Z\n",
      "      handler_name    : ISO Media file produced by Google Inc.\n",
      "      vendor_id       : [0][0][0][0]\n",
      "      encoder         : Lavc58.134.100 libmp3lame\n",
      "size=    3315kB time=00:03:32.08 bitrate= 128.0kbits/s speed=  89x    \n",
      "video:0kB audio:3315kB subtitle:0kB other streams:0kB global headers:0kB muxing overhead: 0.010194%\n"
     ]
    },
    {
     "output_type": "execute_result",
     "data": {
      "text/plain": [
       "0"
      ]
     },
     "metadata": {},
     "execution_count": 5
    }
   ],
   "metadata": {}
  },
  {
   "cell_type": "markdown",
   "source": [
    "# Parse a text document for youtube links"
   ],
   "metadata": {}
  },
  {
   "cell_type": "code",
   "execution_count": 21,
   "source": [
    "with open('youtube_links.txt') as f:\n",
    "    lines = f.read().splitlines()"
   ],
   "outputs": [],
   "metadata": {}
  },
  {
   "cell_type": "code",
   "execution_count": 22,
   "source": [
    "lines"
   ],
   "outputs": [
    {
     "output_type": "execute_result",
     "data": {
      "text/plain": [
       "['https://www.youtube.com/watch?v=IxVuT8cgccM',\n",
       " 'https://www.youtube.com/watch?v=RJDZBozre1g',\n",
       " 'https://www.youtube.com/watch?v=9rlW2rUzyn0',\n",
       " 'https://www.youtube.com/watch?v=ZIu-V_xEehs',\n",
       " 'https://www.youtube.com/watch?v=3aYA2dK2L-U',\n",
       " 'https://www.youtube.com/watch?v=bpXztWUPPFQ',\n",
       " 'https://www.youtube.com/watch?v=x6Nr6EX3AwY',\n",
       " 'https://www.youtube.com/watch?v=Qr2PWFDB4ZU',\n",
       " 'https://www.youtube.com/watch?v=EK8aKKeUmmU',\n",
       " 'https://www.youtube.com/watch?v=L6W1_fUurpA',\n",
       " 'https://www.youtube.com/watch?v=b8M6N0FTpNc',\n",
       " 'https://www.youtube.com/watch?v=2_TPmfd02xc',\n",
       " 'https://www.youtube.com/watch?v=3HFY0xuHybk',\n",
       " 'https://www.youtube.com/watch?v=pwtWYFUwenE',\n",
       " 'https://www.youtube.com/watch?v=Oh-Al70frOc',\n",
       " 'https://www.youtube.com/watch?v=eEdVtJW_PwE',\n",
       " 'https://www.youtube.com/watch?v=84y-jaEiFZU',\n",
       " 'https://www.youtube.com/watch?v=_dSN9EaQotw',\n",
       " 'https://www.youtube.com/watch?v=Pnz4wbCblmM',\n",
       " 'https://www.youtube.com/watch?v=fhEqtynX_xc',\n",
       " 'https://www.youtube.com/watch?v=THVbtGqEO1o']"
      ]
     },
     "metadata": {},
     "execution_count": 22
    }
   ],
   "metadata": {}
  },
  {
   "cell_type": "markdown",
   "source": [
    "# Download whole playlists"
   ],
   "metadata": {}
  },
  {
   "cell_type": "markdown",
   "source": [
    "Fundamentally, we can just pull all youtube links associated with a play list link by using the playlist function."
   ],
   "metadata": {}
  },
  {
   "cell_type": "markdown",
   "source": [
    "## Getting link and setting up playlist object"
   ],
   "metadata": {}
  },
  {
   "cell_type": "code",
   "execution_count": 1,
   "source": [
    "from pytube import Playlist"
   ],
   "outputs": [],
   "metadata": {}
  },
  {
   "cell_type": "code",
   "execution_count": 5,
   "source": [
    "test_playlist_link = 'https://www.youtube.com/playlist?list=PLNaV2uko5PlUgtnoofRWOjM0BUFsHXgzN'\n",
    "test_playlist = Playlist(test_playlist_link)\n"
   ],
   "outputs": [],
   "metadata": {}
  },
  {
   "cell_type": "markdown",
   "source": [
    "## Interacting with playlist object"
   ],
   "metadata": {}
  },
  {
   "cell_type": "code",
   "execution_count": 7,
   "source": [
    "# Get Urls\n",
    "for url in test_playlist.video_urls:\n",
    "    print(url)\n"
   ],
   "outputs": [
    {
     "output_type": "stream",
     "name": "stdout",
     "text": [
      "https://www.youtube.com/watch?v=dQw4w9WgXcQ\n",
      "https://www.youtube.com/watch?v=Xz_6dXgiESk\n",
      "https://www.youtube.com/watch?v=6A07DGlRxg4\n"
     ]
    }
   ],
   "metadata": {}
  },
  {
   "cell_type": "code",
   "execution_count": 8,
   "source": [
    "# Get Description\n",
    "print(test_playlist.description)"
   ],
   "outputs": [
    {
     "output_type": "stream",
     "name": "stdout",
     "text": [
      "Test play list for pytube exploration and building of all_drake_is_the_same\n"
     ]
    }
   ],
   "metadata": {}
  },
  {
   "cell_type": "code",
   "execution_count": 11,
   "source": [
    "# Get video playlist owner\n",
    "test_playlist.owner"
   ],
   "outputs": [
    {
     "output_type": "execute_result",
     "data": {
      "text/plain": [
       "'JPFPV'"
      ]
     },
     "metadata": {},
     "execution_count": 11
    }
   ],
   "metadata": {}
  },
  {
   "cell_type": "markdown",
   "source": [
    "## Downloading videos from playlist\n"
   ],
   "metadata": {}
  },
  {
   "cell_type": "code",
   "execution_count": null,
   "source": [
    "# Create a directory \n",
    "if not os.path.exists('./playlist_download'):\n",
    "    os.makedirs('./playlist_download/')\n",
    "\n",
    "print(os.path.exists('./playlist_download'))"
   ],
   "outputs": [],
   "metadata": {}
  },
  {
   "cell_type": "code",
   "execution_count": 19,
   "source": [
    "# Loop through the playlist and download videos\n",
    "for video, url in zip(test_playlist.videos, test_playlist.video_urls):\n",
    "    print(f'Downloading video link: {url}')\n",
    "    try:\n",
    "        video.streams.filter(file_extension='mp4',\n",
    "                                res=\"720p\").first().download(output_path='./playlist_download/')\n",
    "    except:\n",
    "        print('Failed to download video, trying to download other format')\n",
    "        try:\n",
    "            video.streams.filter.first().download(output_path='./playlist_download')\n",
    "            print('Succesfully downloaded video')\n",
    "        except:\n",
    "            print('Failed to download video in other format')\n",
    "\n",
    "\n",
    "                            "
   ],
   "outputs": [
    {
     "output_type": "stream",
     "name": "stdout",
     "text": [
      "Downloading video link: https://www.youtube.com/watch?v=dQw4w9WgXcQ\n",
      "Downloading video link: https://www.youtube.com/watch?v=Xz_6dXgiESk\n",
      "Failed to download video, trying to download other format\n",
      "Failed to download video in other format\n",
      "Downloading video link: https://www.youtube.com/watch?v=6A07DGlRxg4\n"
     ]
    }
   ],
   "metadata": {}
  },
  {
   "cell_type": "markdown",
   "source": [
    "# So, it looks like a video in our playlist will not download, let's investigate it specifically\n"
   ],
   "metadata": {}
  },
  {
   "cell_type": "code",
   "execution_count": 41,
   "source": [
    "failed_download = 'https://www.youtube.com/watch?v=Xz_6dXgiESk'\n",
    "try:\n",
    "    yt = YouTube(failed_download).streams.first().download()\n",
    "except pytube.exceptions.RegexMatchError as e:\n",
    "    # print(e)\n",
    "    print('failed')\n",
    "'''\n",
    "Problem here is that the file is a .3gpp and not an mp4.\n",
    "I will have to code some error handling for the final script\n",
    "'''"
   ],
   "outputs": [],
   "metadata": {}
  },
  {
   "cell_type": "code",
   "execution_count": 42,
   "source": [
    "for stream in YouTube(failed_download).streams:\n",
    "    print(stream)\n",
    "'''\n",
    "The truth is that my query asked for a 720p mp4 which doesnt exists, so what we really need to query for is the highest quality mp4\n",
    "'''"
   ],
   "outputs": [
    {
     "output_type": "stream",
     "name": "stdout",
     "text": [
      "<Stream: itag=\"17\" mime_type=\"video/3gpp\" res=\"144p\" fps=\"7fps\" vcodec=\"mp4v.20.3\" acodec=\"mp4a.40.2\" progressive=\"True\" type=\"video\">\n",
      "<Stream: itag=\"18\" mime_type=\"video/mp4\" res=\"360p\" fps=\"30fps\" vcodec=\"avc1.42001E\" acodec=\"mp4a.40.2\" progressive=\"True\" type=\"video\">\n",
      "<Stream: itag=\"134\" mime_type=\"video/mp4\" res=\"360p\" fps=\"30fps\" vcodec=\"avc1.4d401e\" progressive=\"False\" type=\"video\">\n",
      "<Stream: itag=\"243\" mime_type=\"video/webm\" res=\"360p\" fps=\"30fps\" vcodec=\"vp9\" progressive=\"False\" type=\"video\">\n",
      "<Stream: itag=\"133\" mime_type=\"video/mp4\" res=\"240p\" fps=\"30fps\" vcodec=\"avc1.4d400d\" progressive=\"False\" type=\"video\">\n",
      "<Stream: itag=\"242\" mime_type=\"video/webm\" res=\"240p\" fps=\"30fps\" vcodec=\"vp9\" progressive=\"False\" type=\"video\">\n",
      "<Stream: itag=\"160\" mime_type=\"video/mp4\" res=\"144p\" fps=\"30fps\" vcodec=\"avc1.4d400c\" progressive=\"False\" type=\"video\">\n",
      "<Stream: itag=\"278\" mime_type=\"video/webm\" res=\"144p\" fps=\"30fps\" vcodec=\"vp9\" progressive=\"False\" type=\"video\">\n",
      "<Stream: itag=\"139\" mime_type=\"audio/mp4\" abr=\"48kbps\" acodec=\"mp4a.40.5\" progressive=\"False\" type=\"audio\">\n",
      "<Stream: itag=\"140\" mime_type=\"audio/mp4\" abr=\"128kbps\" acodec=\"mp4a.40.2\" progressive=\"False\" type=\"audio\">\n",
      "<Stream: itag=\"249\" mime_type=\"audio/webm\" abr=\"50kbps\" acodec=\"opus\" progressive=\"False\" type=\"audio\">\n",
      "<Stream: itag=\"250\" mime_type=\"audio/webm\" abr=\"70kbps\" acodec=\"opus\" progressive=\"False\" type=\"audio\">\n",
      "<Stream: itag=\"251\" mime_type=\"audio/webm\" abr=\"160kbps\" acodec=\"opus\" progressive=\"False\" type=\"audio\">\n"
     ]
    }
   ],
   "metadata": {}
  },
  {
   "cell_type": "code",
   "execution_count": 46,
   "source": [
    "for stream in YouTube(failed_download).streams.filter(only_audio=True):\n",
    "    print(stream)"
   ],
   "outputs": [
    {
     "output_type": "stream",
     "name": "stdout",
     "text": [
      "<Stream: itag=\"139\" mime_type=\"audio/mp4\" abr=\"48kbps\" acodec=\"mp4a.40.5\" progressive=\"False\" type=\"audio\">\n",
      "<Stream: itag=\"140\" mime_type=\"audio/mp4\" abr=\"128kbps\" acodec=\"mp4a.40.2\" progressive=\"False\" type=\"audio\">\n",
      "<Stream: itag=\"249\" mime_type=\"audio/webm\" abr=\"50kbps\" acodec=\"opus\" progressive=\"False\" type=\"audio\">\n",
      "<Stream: itag=\"250\" mime_type=\"audio/webm\" abr=\"70kbps\" acodec=\"opus\" progressive=\"False\" type=\"audio\">\n",
      "<Stream: itag=\"251\" mime_type=\"audio/webm\" abr=\"160kbps\" acodec=\"opus\" progressive=\"False\" type=\"audio\">\n"
     ]
    }
   ],
   "metadata": {}
  },
  {
   "cell_type": "code",
   "execution_count": 50,
   "source": [
    "for stream in YouTube(failed_download).streams.filter(file_extension='mp4'):\n",
    "    print(stream)"
   ],
   "outputs": [
    {
     "output_type": "stream",
     "name": "stdout",
     "text": [
      "<Stream: itag=\"18\" mime_type=\"video/mp4\" res=\"360p\" fps=\"30fps\" vcodec=\"avc1.42001E\" acodec=\"mp4a.40.2\" progressive=\"True\" type=\"video\">\n",
      "<Stream: itag=\"134\" mime_type=\"video/mp4\" res=\"360p\" fps=\"30fps\" vcodec=\"avc1.4d401e\" progressive=\"False\" type=\"video\">\n",
      "<Stream: itag=\"133\" mime_type=\"video/mp4\" res=\"240p\" fps=\"30fps\" vcodec=\"avc1.4d400d\" progressive=\"False\" type=\"video\">\n",
      "<Stream: itag=\"160\" mime_type=\"video/mp4\" res=\"144p\" fps=\"30fps\" vcodec=\"avc1.4d400c\" progressive=\"False\" type=\"video\">\n",
      "<Stream: itag=\"139\" mime_type=\"audio/mp4\" abr=\"48kbps\" acodec=\"mp4a.40.5\" progressive=\"False\" type=\"audio\">\n",
      "<Stream: itag=\"140\" mime_type=\"audio/mp4\" abr=\"128kbps\" acodec=\"mp4a.40.2\" progressive=\"False\" type=\"audio\">\n"
     ]
    }
   ],
   "metadata": {}
  },
  {
   "cell_type": "code",
   "execution_count": 51,
   "source": [
    "YouTube(failed_download).streams.filter(file_extension='mp4').last().download()"
   ],
   "outputs": [
    {
     "output_type": "execute_result",
     "data": {
      "text/plain": [
       "<Stream: itag=\"140\" mime_type=\"audio/mp4\" abr=\"128kbps\" acodec=\"mp4a.40.2\" progressive=\"False\" type=\"audio\">"
      ]
     },
     "metadata": {},
     "execution_count": 51
    }
   ],
   "metadata": {}
  },
  {
   "cell_type": "code",
   "execution_count": null,
   "source": [],
   "outputs": [],
   "metadata": {}
  }
 ],
 "metadata": {
  "orig_nbformat": 4,
  "language_info": {
   "name": "python",
   "version": "3.9.7",
   "mimetype": "text/x-python",
   "codemirror_mode": {
    "name": "ipython",
    "version": 3
   },
   "pygments_lexer": "ipython3",
   "nbconvert_exporter": "python",
   "file_extension": ".py"
  },
  "kernelspec": {
   "name": "python3",
   "display_name": "Python 3.9.7 64-bit"
  },
  "interpreter": {
   "hash": "b0fa6594d8f4cbf19f97940f81e996739fb7646882a419484c72d19e05852a7e"
  }
 },
 "nbformat": 4,
 "nbformat_minor": 2
}