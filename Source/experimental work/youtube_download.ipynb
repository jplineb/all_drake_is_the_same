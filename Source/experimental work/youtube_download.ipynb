{
 "cells": [
  {
   "cell_type": "markdown",
   "source": [
    "# Imports"
   ],
   "metadata": {}
  },
  {
   "cell_type": "code",
   "execution_count": 24,
   "source": [
    "import os\n",
    "from pytube import YouTube"
   ],
   "outputs": [],
   "metadata": {}
  },
  {
   "cell_type": "markdown",
   "source": [
    "# Test a random video to download"
   ],
   "metadata": {}
  },
  {
   "cell_type": "code",
   "execution_count": 25,
   "source": [
    "link = \"https://www.youtube.com/watch?v=dQw4w9WgXcQ\"\n",
    "YouTube(link).streams.first().download()"
   ],
   "outputs": [
    {
     "output_type": "execute_result",
     "data": {
      "text/plain": [
       "'/Users/jplineb/Documents/GitHub/all_drake_is_the_same/Source/experimental work/Rick Astley - Never Gonna Give You Up (Official Music Video).3gpp'"
      ]
     },
     "metadata": {},
     "execution_count": 25
    }
   ],
   "metadata": {}
  },
  {
   "cell_type": "markdown",
   "source": [
    "## Try to filter based on mp4"
   ],
   "metadata": {}
  },
  {
   "cell_type": "markdown",
   "source": [
    "Code below doesn't provide audio when streamed"
   ],
   "metadata": {}
  },
  {
   "cell_type": "code",
   "execution_count": 26,
   "source": [
    "YouTube(link).streams.filter(file_extension='mp4',\n",
    "                            res=\"1080p\").first().download()"
   ],
   "outputs": [
    {
     "output_type": "execute_result",
     "data": {
      "text/plain": [
       "'/Users/jplineb/Documents/GitHub/all_drake_is_the_same/Source/experimental work/Rick Astley - Never Gonna Give You Up (Official Music Video).mp4'"
      ]
     },
     "metadata": {},
     "execution_count": 26
    }
   ],
   "metadata": {}
  },
  {
   "cell_type": "markdown",
   "source": [
    "## Try just mp3 --> only get mp4s with library"
   ],
   "metadata": {}
  },
  {
   "cell_type": "markdown",
   "source": [
    "Saldy just provides mp4s, so I need to convert to mp3"
   ],
   "metadata": {}
  },
  {
   "cell_type": "code",
   "execution_count": 27,
   "source": [
    "YouTube(link).streams.get_audio_only().download()"
   ],
   "outputs": [],
   "metadata": {}
  },
  {
   "cell_type": "markdown",
   "source": [
    "# Convert mp4 to mp3"
   ],
   "metadata": {}
  },
  {
   "cell_type": "code",
   "execution_count": 4,
   "source": [
    "path_to_mp4 = 'Rick Astley - Never Gonna Give You Up.mp4'\n",
    "path_to_mp3 = 'test_audio.mp3'\n",
    "\n",
    "# Join paths for the terminal commands to work\n",
    "# path_to_mp4 = os.path.join(os.getcwd(), path_to_mp4)\n",
    "# path_to_mp3 = os.path.join(os.getcwd(), path_to_mp3)"
   ],
   "outputs": [
    {
     "output_type": "stream",
     "name": "stdout",
     "text": [
      "'Rick Astley - Never Gonna Give You Up.mp4'\n"
     ]
    }
   ],
   "metadata": {}
  },
  {
   "cell_type": "markdown",
   "source": [
    "## Note: Always use repr to convert string to escape characters for command line arguments"
   ],
   "metadata": {}
  },
  {
   "cell_type": "code",
   "execution_count": 5,
   "source": [
    "\n",
    "cmd = \"ffmpeg -i {} -vn {}\".format(repr(path_to_mp4),\n",
    "                                    repr(path_to_mp3))\n",
    "os.system(cmd)"
   ],
   "outputs": [
    {
     "output_type": "stream",
     "name": "stderr",
     "text": [
      "ffmpeg version 4.4 Copyright (c) 2000-2021 the FFmpeg developers\n",
      "  built with Apple clang version 12.0.5 (clang-1205.0.22.9)\n",
      "  configuration: --prefix=/opt/homebrew/Cellar/ffmpeg/4.4_2 --enable-shared --enable-pthreads --enable-version3 --cc=clang --host-cflags= --host-ldflags= --enable-ffplay --enable-gnutls --enable-gpl --enable-libaom --enable-libbluray --enable-libdav1d --enable-libmp3lame --enable-libopus --enable-librav1e --enable-librubberband --enable-libsnappy --enable-libsrt --enable-libtesseract --enable-libtheora --enable-libvidstab --enable-libvorbis --enable-libvpx --enable-libwebp --enable-libx264 --enable-libx265 --enable-libxml2 --enable-libxvid --enable-lzma --enable-libfontconfig --enable-libfreetype --enable-frei0r --enable-libass --enable-libopencore-amrnb --enable-libopencore-amrwb --enable-libopenjpeg --enable-libspeex --enable-libsoxr --enable-libzmq --enable-libzimg --disable-libjack --disable-indev=jack --enable-avresample --enable-videotoolbox\n",
      "  libavutil      56. 70.100 / 56. 70.100\n",
      "  libavcodec     58.134.100 / 58.134.100\n",
      "  libavformat    58. 76.100 / 58. 76.100\n",
      "  libavdevice    58. 13.100 / 58. 13.100\n",
      "  libavfilter     7.110.100 /  7.110.100\n",
      "  libavresample   4.  0.  0 /  4.  0.  0\n",
      "  libswscale      5.  9.100 /  5.  9.100\n",
      "  libswresample   3.  9.100 /  3.  9.100\n",
      "  libpostproc    55.  9.100 / 55.  9.100\n",
      "Input #0, mov,mp4,m4a,3gp,3g2,mj2, from 'Rick Astley - Never Gonna Give You Up.mp4':\n",
      "  Metadata:\n",
      "    major_brand     : dash\n",
      "    minor_version   : 0\n",
      "    compatible_brands: iso6mp41\n",
      "    creation_time   : 2021-08-05T00:06:10.000000Z\n",
      "  Duration: 00:03:32.09, start: 0.000000, bitrate: 129 kb/s\n",
      "  Stream #0:0(eng): Audio: aac (LC) (mp4a / 0x6134706D), 44100 Hz, stereo, fltp, 6 kb/s (default)\n",
      "    Metadata:\n",
      "      creation_time   : 2021-08-05T00:06:10.000000Z\n",
      "      handler_name    : ISO Media file produced by Google Inc.\n",
      "      vendor_id       : [0][0][0][0]\n",
      "Stream mapping:\n",
      "  Stream #0:0 -> #0:0 (aac (native) -> mp3 (libmp3lame))\n",
      "Press [q] to stop, [?] for help\n",
      "Output #0, mp3, to 'test_audio.mp3':\n",
      "  Metadata:\n",
      "    major_brand     : dash\n",
      "    minor_version   : 0\n",
      "    compatible_brands: iso6mp41\n",
      "    TSSE            : Lavf58.76.100\n",
      "  Stream #0:0(eng): Audio: mp3, 44100 Hz, stereo, fltp (default)\n",
      "    Metadata:\n",
      "      creation_time   : 2021-08-05T00:06:10.000000Z\n",
      "      handler_name    : ISO Media file produced by Google Inc.\n",
      "      vendor_id       : [0][0][0][0]\n",
      "      encoder         : Lavc58.134.100 libmp3lame\n",
      "size=    3315kB time=00:03:32.08 bitrate= 128.0kbits/s speed=  89x    \n",
      "video:0kB audio:3315kB subtitle:0kB other streams:0kB global headers:0kB muxing overhead: 0.010194%\n"
     ]
    },
    {
     "output_type": "execute_result",
     "data": {
      "text/plain": [
       "0"
      ]
     },
     "metadata": {},
     "execution_count": 5
    }
   ],
   "metadata": {}
  },
  {
   "cell_type": "markdown",
   "source": [
    "# Parse a text document for youtube links"
   ],
   "metadata": {}
  },
  {
   "cell_type": "code",
   "execution_count": 21,
   "source": [
    "with open('youtube_links.txt') as f:\n",
    "    lines = f.read().splitlines()"
   ],
   "outputs": [],
   "metadata": {}
  },
  {
   "cell_type": "code",
   "execution_count": 22,
   "source": [
    "lines"
   ],
   "outputs": [
    {
     "output_type": "execute_result",
     "data": {
      "text/plain": [
       "['https://www.youtube.com/watch?v=IxVuT8cgccM',\n",
       " 'https://www.youtube.com/watch?v=RJDZBozre1g',\n",
       " 'https://www.youtube.com/watch?v=9rlW2rUzyn0',\n",
       " 'https://www.youtube.com/watch?v=ZIu-V_xEehs',\n",
       " 'https://www.youtube.com/watch?v=3aYA2dK2L-U',\n",
       " 'https://www.youtube.com/watch?v=bpXztWUPPFQ',\n",
       " 'https://www.youtube.com/watch?v=x6Nr6EX3AwY',\n",
       " 'https://www.youtube.com/watch?v=Qr2PWFDB4ZU',\n",
       " 'https://www.youtube.com/watch?v=EK8aKKeUmmU',\n",
       " 'https://www.youtube.com/watch?v=L6W1_fUurpA',\n",
       " 'https://www.youtube.com/watch?v=b8M6N0FTpNc',\n",
       " 'https://www.youtube.com/watch?v=2_TPmfd02xc',\n",
       " 'https://www.youtube.com/watch?v=3HFY0xuHybk',\n",
       " 'https://www.youtube.com/watch?v=pwtWYFUwenE',\n",
       " 'https://www.youtube.com/watch?v=Oh-Al70frOc',\n",
       " 'https://www.youtube.com/watch?v=eEdVtJW_PwE',\n",
       " 'https://www.youtube.com/watch?v=84y-jaEiFZU',\n",
       " 'https://www.youtube.com/watch?v=_dSN9EaQotw',\n",
       " 'https://www.youtube.com/watch?v=Pnz4wbCblmM',\n",
       " 'https://www.youtube.com/watch?v=fhEqtynX_xc',\n",
       " 'https://www.youtube.com/watch?v=THVbtGqEO1o']"
      ]
     },
     "metadata": {},
     "execution_count": 22
    }
   ],
   "metadata": {}
  },
  {
   "cell_type": "code",
   "execution_count": null,
   "source": [],
   "outputs": [],
   "metadata": {}
  }
 ],
 "metadata": {
  "orig_nbformat": 4,
  "language_info": {
   "name": "python",
   "version": "3.9.7",
   "mimetype": "text/x-python",
   "codemirror_mode": {
    "name": "ipython",
    "version": 3
   },
   "pygments_lexer": "ipython3",
   "nbconvert_exporter": "python",
   "file_extension": ".py"
  },
  "kernelspec": {
   "name": "python3",
   "display_name": "Python 3.9.6 64-bit"
  },
  "interpreter": {
   "hash": "b0fa6594d8f4cbf19f97940f81e996739fb7646882a419484c72d19e05852a7e"
  }
 },
 "nbformat": 4,
 "nbformat_minor": 2
}