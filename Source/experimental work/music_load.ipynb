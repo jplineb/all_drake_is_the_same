{
 "cells": [
  {
   "cell_type": "markdown",
   "source": [
    "# Import libraries and Setups"
   ],
   "metadata": {}
  },
  {
   "cell_type": "markdown",
   "source": [],
   "metadata": {}
  },
  {
   "cell_type": "code",
   "execution_count": 12,
   "source": [
    "import os\n",
    "import pydub\n",
    "from pydub.playback import play"
   ],
   "outputs": [],
   "metadata": {}
  },
  {
   "cell_type": "code",
   "execution_count": 2,
   "source": [
    "# check for working directory\n",
    "os.getcwd()"
   ],
   "outputs": [
    {
     "output_type": "execute_result",
     "data": {
      "text/plain": [
       "'/Users/jplineb/Documents/GitHub/all_drake_is_the_same/Source/experimental work'"
      ]
     },
     "metadata": {},
     "execution_count": 2
    }
   ],
   "metadata": {}
  },
  {
   "cell_type": "markdown",
   "source": [
    "## Set a location for a test file\n"
   ],
   "metadata": {}
  },
  {
   "cell_type": "code",
   "execution_count": 8,
   "source": [
    "TEST_FILE_1 = '../../Artists/Kanye/2049/02 POWER.mp3'\n",
    "os.path.exists(TEST_FILE_1)"
   ],
   "outputs": [
    {
     "output_type": "execute_result",
     "data": {
      "text/plain": [
       "True"
      ]
     },
     "metadata": {},
     "execution_count": 8
    }
   ],
   "metadata": {}
  },
  {
   "cell_type": "markdown",
   "source": [
    "# Use pydub to read and play a song"
   ],
   "metadata": {}
  },
  {
   "cell_type": "code",
   "execution_count": null,
   "source": [
    "# play a song on disk\n",
    "test_track = pydub.AudioSegment.from_mp3(TEST_FILE_1)\n",
    "play(test_track)\n",
    "# stop the cell to stop playback"
   ],
   "outputs": [],
   "metadata": {}
  },
  {
   "cell_type": "markdown",
   "source": [
    "## Play the first ten seconds\n",
    "pydub does things in milliseconds"
   ],
   "metadata": {}
  },
  {
   "cell_type": "code",
   "execution_count": null,
   "source": [
    "ten_seconds = 10 * 1000\n",
    "play(test_track[:ten_seconds])"
   ],
   "outputs": [],
   "metadata": {}
  },
  {
   "cell_type": "markdown",
   "source": [
    "# Get audio information"
   ],
   "metadata": {}
  },
  {
   "cell_type": "code",
   "execution_count": 20,
   "source": [
    "test_track.duration_seconds"
   ],
   "outputs": [
    {
     "output_type": "execute_result",
     "data": {
      "text/plain": [
       "173.9581859410431"
      ]
     },
     "metadata": {},
     "execution_count": 20
    }
   ],
   "metadata": {}
  },
  {
   "cell_type": "code",
   "execution_count": 22,
   "source": [
    "test_track.frame_count()"
   ],
   "outputs": [
    {
     "output_type": "execute_result",
     "data": {
      "text/plain": [
       "7671556.0"
      ]
     },
     "metadata": {},
     "execution_count": 22
    }
   ],
   "metadata": {}
  },
  {
   "cell_type": "markdown",
   "source": [
    "# Signal Processing"
   ],
   "metadata": {}
  },
  {
   "cell_type": "code",
   "execution_count": 24,
   "source": [
    "import pydub.effects\n",
    "import pydub.scipy_effects"
   ],
   "outputs": [],
   "metadata": {}
  },
  {
   "cell_type": "markdown",
   "source": [
    "## See all effects"
   ],
   "metadata": {}
  },
  {
   "cell_type": "code",
   "execution_count": 27,
   "source": [
    "dir(pydub.effects)"
   ],
   "outputs": [
    {
     "output_type": "execute_result",
     "data": {
      "text/plain": [
       "['InvalidDuration',\n",
       " 'TooManyMissingFrames',\n",
       " '__builtins__',\n",
       " '__cached__',\n",
       " '__doc__',\n",
       " '__file__',\n",
       " '__loader__',\n",
       " '__name__',\n",
       " '__package__',\n",
       " '__spec__',\n",
       " 'apply_gain_stereo',\n",
       " 'apply_mono_filter_to_each_channel',\n",
       " 'array',\n",
       " 'audioop',\n",
       " 'compress_dynamic_range',\n",
       " 'db_to_float',\n",
       " 'get_min_max_value',\n",
       " 'high_pass_filter',\n",
       " 'invert_phase',\n",
       " 'low_pass_filter',\n",
       " 'make_chunks',\n",
       " 'math',\n",
       " 'normalize',\n",
       " 'pan',\n",
       " 'ratio_to_db',\n",
       " 'register_pydub_effect',\n",
       " 'speedup',\n",
       " 'split_on_silence',\n",
       " 'strip_silence',\n",
       " 'sys',\n",
       " 'xrange']"
      ]
     },
     "metadata": {},
     "execution_count": 27
    }
   ],
   "metadata": {}
  },
  {
   "cell_type": "code",
   "execution_count": 28,
   "source": [
    "dir(pydub.scipy_effects)"
   ],
   "outputs": [
    {
     "output_type": "execute_result",
     "data": {
      "text/plain": [
       "['__builtins__',\n",
       " '__cached__',\n",
       " '__doc__',\n",
       " '__file__',\n",
       " '__loader__',\n",
       " '__name__',\n",
       " '__package__',\n",
       " '__spec__',\n",
       " '_eq',\n",
       " '_mk_butter_filter',\n",
       " 'band_pass_filter',\n",
       " 'butter',\n",
       " 'eq',\n",
       " 'high_pass_filter',\n",
       " 'low_pass_filter',\n",
       " 'ms_to_stereo',\n",
       " 'register_pydub_effect',\n",
       " 'sosfilt',\n",
       " 'stereo_to_ms']"
      ]
     },
     "metadata": {},
     "execution_count": 28
    }
   ],
   "metadata": {}
  },
  {
   "cell_type": "code",
   "execution_count": null,
   "source": [],
   "outputs": [],
   "metadata": {}
  }
 ],
 "metadata": {
  "orig_nbformat": 4,
  "language_info": {
   "name": "python",
   "version": "3.9.7",
   "mimetype": "text/x-python",
   "codemirror_mode": {
    "name": "ipython",
    "version": 3
   },
   "pygments_lexer": "ipython3",
   "nbconvert_exporter": "python",
   "file_extension": ".py"
  },
  "kernelspec": {
   "name": "python3",
   "display_name": "Python 3.9.6 64-bit"
  },
  "interpreter": {
   "hash": "b0fa6594d8f4cbf19f97940f81e996739fb7646882a419484c72d19e05852a7e"
  }
 },
 "nbformat": 4,
 "nbformat_minor": 2
}